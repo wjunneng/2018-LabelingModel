{
 "cells": [
  {
   "cell_type": "code",
   "execution_count": 29,
   "metadata": {},
   "outputs": [
    {
     "ename": "UnicodeDecodeError",
     "evalue": "'gbk' codec can't decode byte 0xb1 in position 5: illegal multibyte sequence",
     "output_type": "error",
     "traceback": [
      "\u001b[0;31m---------------------------------------------------------------------------\u001b[0m",
      "\u001b[0;31mUnicodeDecodeError\u001b[0m                        Traceback (most recent call last)",
      "\u001b[0;32m<ipython-input-29-314720c45a7c>\u001b[0m in \u001b[0;36m<module>\u001b[0;34m()\u001b[0m\n\u001b[1;32m     54\u001b[0m     \u001b[0msavePath\u001b[0m \u001b[0;34m=\u001b[0m \u001b[0;34m\"../data/题目-类别.xls\"\u001b[0m\u001b[0;34m\u001b[0m\u001b[0m\n\u001b[1;32m     55\u001b[0m     \u001b[0mstopWordsPath\u001b[0m \u001b[0;34m=\u001b[0m \u001b[0;34m\"../data/stopWord.txt\"\u001b[0m\u001b[0;34m\u001b[0m\u001b[0m\n\u001b[0;32m---> 56\u001b[0;31m     \u001b[0mDealData\u001b[0m\u001b[0;34m(\u001b[0m\u001b[0mpath\u001b[0m\u001b[0;34m,\u001b[0m \u001b[0msavePath\u001b[0m\u001b[0;34m,\u001b[0m \u001b[0mstopWordsPath\u001b[0m\u001b[0;34m)\u001b[0m\u001b[0;34m.\u001b[0m\u001b[0mreadData\u001b[0m\u001b[0;34m(\u001b[0m\u001b[0;34m)\u001b[0m\u001b[0;34m\u001b[0m\u001b[0m\n\u001b[0m",
      "\u001b[0;32m<ipython-input-29-314720c45a7c>\u001b[0m in \u001b[0;36mreadData\u001b[0;34m(self)\u001b[0m\n\u001b[1;32m     36\u001b[0m \u001b[0;34m\u001b[0m\u001b[0m\n\u001b[1;32m     37\u001b[0m         \u001b[0;31m# 加载停用词\u001b[0m\u001b[0;34m\u001b[0m\u001b[0;34m\u001b[0m\u001b[0m\n\u001b[0;32m---> 38\u001b[0;31m         \u001b[0mstopWords\u001b[0m \u001b[0;34m=\u001b[0m \u001b[0mself\u001b[0m\u001b[0;34m.\u001b[0m\u001b[0mreadStopWords\u001b[0m\u001b[0;34m(\u001b[0m\u001b[0;34m)\u001b[0m\u001b[0;34m\u001b[0m\u001b[0m\n\u001b[0m\u001b[1;32m     39\u001b[0m         \u001b[0;32mfor\u001b[0m \u001b[0mi\u001b[0m \u001b[0;32min\u001b[0m \u001b[0mrange\u001b[0m\u001b[0;34m(\u001b[0m\u001b[0mdata\u001b[0m\u001b[0;34m.\u001b[0m\u001b[0mshape\u001b[0m\u001b[0;34m[\u001b[0m\u001b[0;36m0\u001b[0m\u001b[0;34m]\u001b[0m\u001b[0;34m)\u001b[0m\u001b[0;34m:\u001b[0m\u001b[0;34m\u001b[0m\u001b[0m\n\u001b[1;32m     40\u001b[0m             \u001b[0mtxt\u001b[0m \u001b[0;34m=\u001b[0m \u001b[0;34m''\u001b[0m\u001b[0;34m\u001b[0m\u001b[0m\n",
      "\u001b[0;32m<ipython-input-29-314720c45a7c>\u001b[0m in \u001b[0;36mreadStopWords\u001b[0;34m(self)\u001b[0m\n\u001b[1;32m     13\u001b[0m         \u001b[0mtxt\u001b[0m \u001b[0;34m=\u001b[0m \u001b[0;34m[\u001b[0m\u001b[0;34m]\u001b[0m\u001b[0;34m\u001b[0m\u001b[0m\n\u001b[1;32m     14\u001b[0m         \u001b[0;32mwith\u001b[0m \u001b[0mopen\u001b[0m\u001b[0;34m(\u001b[0m\u001b[0mself\u001b[0m\u001b[0;34m.\u001b[0m\u001b[0mpath\u001b[0m\u001b[0;34m,\u001b[0m \u001b[0;34m'r'\u001b[0m\u001b[0;34m,\u001b[0m \u001b[0mencoding\u001b[0m\u001b[0;34m=\u001b[0m\u001b[0;34m'gbk'\u001b[0m\u001b[0;34m)\u001b[0m \u001b[0;32mas\u001b[0m \u001b[0mfile\u001b[0m\u001b[0;34m:\u001b[0m\u001b[0;34m\u001b[0m\u001b[0m\n\u001b[0;32m---> 15\u001b[0;31m             \u001b[0mline\u001b[0m \u001b[0;34m=\u001b[0m \u001b[0mfile\u001b[0m\u001b[0;34m.\u001b[0m\u001b[0mreadline\u001b[0m\u001b[0;34m(\u001b[0m\u001b[0;34m)\u001b[0m\u001b[0;34m\u001b[0m\u001b[0m\n\u001b[0m\u001b[1;32m     16\u001b[0m             \u001b[0;32mwhile\u001b[0m \u001b[0mline\u001b[0m\u001b[0;34m:\u001b[0m\u001b[0;34m\u001b[0m\u001b[0m\n\u001b[1;32m     17\u001b[0m                 \u001b[0mtxt\u001b[0m\u001b[0;34m.\u001b[0m\u001b[0mappend\u001b[0m\u001b[0;34m(\u001b[0m\u001b[0mline\u001b[0m\u001b[0;34m)\u001b[0m\u001b[0;34m\u001b[0m\u001b[0m\n",
      "\u001b[0;31mUnicodeDecodeError\u001b[0m: 'gbk' codec can't decode byte 0xb1 in position 5: illegal multibyte sequence"
     ]
    }
   ],
   "source": [
    "import pandas as pd\n",
    "import xlrd\n",
    "import jieba\n",
    "\n",
    "class DealData:\n",
    "    def __init__(self, path, savePath, stopWordsPath):\n",
    "        self.path = path\n",
    "        self.savePath = savePath \n",
    "        self.stopWordsPath = stopWordsPath\n",
    "    \n",
    "    # 读取停用词文件\n",
    "    def readStopWords(self):\n",
    "        txt = []\n",
    "        with open(self.path, 'r', encoding='gbk') as file:\n",
    "            line = file.readline()\n",
    "            while line:\n",
    "                txt.append(line)\n",
    "        return txt\n",
    "\n",
    "    # 数据读取\n",
    "    def readData(self):\n",
    "        # 读取文件\n",
    "        wb = xlrd.open_workbook(self.path)\n",
    "        # 获取所有的sheet名字\n",
    "        sheets = wb.sheet_names()\n",
    "        # 遍历\n",
    "        data = None\n",
    "        for i in sheets:\n",
    "            df = pd.read_excel(self.path, sheet_name=i, encoding='uttf-8')\n",
    "            if data is not None:\n",
    "                data = pd.concat([data, df], axis=0)\n",
    "            else:\n",
    "                data = df\n",
    "\n",
    "        data.reset_index(inplace=True)\n",
    "\n",
    "        # 加载停用词\n",
    "        stopWords = self.readStopWords()\n",
    "        for i in range(data.shape[0]):\n",
    "            txt = ''\n",
    "            tmp = data.ix[i, u'题干'] + data.ix[i, u'A'] + data.ix[i, u'B'] + data.ix[i, u'C'] + data.ix[i, u'D']\n",
    "            for j in tmp:\n",
    "                if j not in stopWords and len(j) > 1:\n",
    "                    txt += j + \" \"\n",
    "\n",
    "            data.ix[i, u'题目'] = txt\n",
    "\n",
    "        data = data.loc[:, [u'题目', '知识点编号']]\n",
    "        print(data)\n",
    "        data.to_excel(self.savePath, index=None)    \n",
    "    \n",
    "if __name__ == '__main__':\n",
    "    path = \"../data/大信-题目-全部.xls\"\n",
    "    savePath = \"../data/题目-类别.xls\"\n",
    "    stopWordsPath = \"../data/stopWord.txt\"    \n",
    "    DealData(path, savePath, stopWordsPath).readData()"
   ]
  },
  {
   "cell_type": "code",
   "execution_count": null,
   "metadata": {},
   "outputs": [],
   "source": []
  }
 ],
 "metadata": {
  "kernelspec": {
   "display_name": "Python 3",
   "language": "python",
   "name": "python3"
  },
  "language_info": {
   "codemirror_mode": {
    "name": "ipython",
    "version": 3
   },
   "file_extension": ".py",
   "mimetype": "text/x-python",
   "name": "python",
   "nbconvert_exporter": "python",
   "pygments_lexer": "ipython3",
   "version": "3.6.5"
  }
 },
 "nbformat": 4,
 "nbformat_minor": 2
}
