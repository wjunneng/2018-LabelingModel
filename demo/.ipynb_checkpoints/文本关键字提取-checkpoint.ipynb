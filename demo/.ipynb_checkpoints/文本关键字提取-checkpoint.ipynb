{
 "cells": [
  {
   "cell_type": "code",
   "execution_count": 57,
   "metadata": {},
   "outputs": [],
   "source": [
    "import pandas as pd\n",
    "import xlrd\n",
    "\n",
    "# 数据读取\n",
    "def read_data(path, savepath):\n",
    "    # 读取文件\n",
    "    wb = xlrd.open_workbook(path)\n",
    "    # 获取所有的sheet名字\n",
    "    sheets = wb.sheet_names()\n",
    "    # 遍历\n",
    "    data = None\n",
    "    for i in sheets:\n",
    "        df = pd.read_excel(path, sheet_name=i, encoding='uttf-8')\n",
    "        if data is not None:\n",
    "            data = pd.concat([data, df], axis=0)\n",
    "        else:\n",
    "            data = df\n",
    "    \n",
    "    for i in range(data.shape[0]):\n",
    "        data[u'题目'] = data[u'题干'] + data[u'A'] + data[u'B'] + data[u'C'] + data[u'D']\n",
    "    \n",
    "    data = data.loc[:, [u'题目', '知识点编号']]\n",
    "    data.to_excel(savepath, index=None)\n",
    "\n",
    "if __name__ == '__main__':\n",
    "    path = \"./data/大信-题目-全部.xls\"\n",
    "    savepath = \"./data/题目-类别.xls\"\n",
    "    read_data(path, savepath)"
   ]
  },
  {
   "cell_type": "code",
   "execution_count": null,
   "metadata": {},
   "outputs": [],
   "source": []
  }
 ],
 "metadata": {
  "kernelspec": {
   "display_name": "Python 3",
   "language": "python",
   "name": "python3"
  },
  "language_info": {
   "codemirror_mode": {
    "name": "ipython",
    "version": 3
   },
   "file_extension": ".py",
   "mimetype": "text/x-python",
   "name": "python",
   "nbconvert_exporter": "python",
   "pygments_lexer": "ipython3",
   "version": "3.6.5"
  }
 },
 "nbformat": 4,
 "nbformat_minor": 2
}
